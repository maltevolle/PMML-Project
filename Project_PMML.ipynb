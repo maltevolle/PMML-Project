{
  "nbformat": 4,
  "nbformat_minor": 0,
  "metadata": {
    "colab": {
      "provenance": [],
      "authorship_tag": "ABX9TyM04S2Sw/9Yykx0uM3vWC4u",
      "include_colab_link": true
    },
    "kernelspec": {
      "name": "python3",
      "display_name": "Python 3"
    },
    "language_info": {
      "name": "python"
    }
  },
  "cells": [
    {
      "cell_type": "markdown",
      "metadata": {
        "id": "view-in-github",
        "colab_type": "text"
      },
      "source": [
        "<a href=\"https://colab.research.google.com/github/maltevolle/PMML-Project/blob/main/Project_PMML.ipynb\" target=\"_parent\"><img src=\"https://colab.research.google.com/assets/colab-badge.svg\" alt=\"Open In Colab\"/></a>"
      ]
    },
    {
      "cell_type": "code",
      "execution_count": null,
      "metadata": {
        "id": "UowRnRXBg2ck"
      },
      "outputs": [],
      "source": [
        "import tensorflow as tf\n",
        "import tensorflow_datasets as tfds\n",
        "import matplotlib.pyplot as plt"
      ]
    },
    {
      "cell_type": "code",
      "source": [
        "# Load the data\n",
        "(train_data, validation_data, test_data), info = tfds.load('cats_vs_dogs',\n",
        "                                                           split=['train[:80%]', 'train[80%:90%]', 'train[90%:]'],\n",
        "                                                           with_info=True,\n",
        "                                                           as_supervised=True)\n",
        "\n",
        "# Get the label names\n",
        "label_names = info.features['label'].names\n",
        "\n",
        "# Preprocessing function: resize and normalize images\n",
        "def preprocess_image(image, label):\n",
        "    image = tf.image.resize(image, [224, 224])  # Resize to 224x224\n",
        "    image = tf.cast(image, tf.float32) / 255.0  # Normalize to [0, 1]\n",
        "    return image, label\n",
        "\n",
        "# Apply preprocessing and batch the data\n",
        "batch_size = 32\n",
        "train_data = train_data.map(preprocess_image).batch(batch_size).prefetch(buffer_size=tf.data.AUTOTUNE)\n",
        "validation_data = validation_data.map(preprocess_image).batch(batch_size).prefetch(buffer_size=tf.data.AUTOTUNE)\n",
        "test_data = test_data.map(preprocess_image).batch(batch_size).prefetch(buffer_size=tf.data.AUTOTUNE)\n",
        "\n",
        "# Display some sample images\n",
        "plt.figure(figsize=(10, 10))\n",
        "for i, (image, label) in enumerate(train_data.unbatch().take(9)):\n",
        "    ax = plt.subplot(3, 3, i + 1)\n",
        "    plt.imshow(image.numpy())\n",
        "    plt.title(label_names[label.numpy()])\n",
        "    plt.axis('off')\n",
        "plt.show()\n"
      ],
      "metadata": {
        "id": "K6JGg6Taj7fb"
      },
      "execution_count": null,
      "outputs": []
    }
  ]
}